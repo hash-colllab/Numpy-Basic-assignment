{
 "cells": [
  {
   "cell_type": "code",
   "execution_count": 1,
   "id": "5ed3f7bd-b67d-4504-88c5-51da04202fff",
   "metadata": {},
   "outputs": [],
   "source": [
    "import numpy as np"
   ]
  },
  {
   "cell_type": "code",
   "execution_count": 2,
   "id": "93bb77bc-314f-4e31-a093-cb88e9be8a93",
   "metadata": {},
   "outputs": [],
   "source": [
    "list = ['1','2','3','4','5']"
   ]
  },
  {
   "cell_type": "code",
   "execution_count": 3,
   "id": "23e1d96f-5b74-44e3-bacb-3f59018c63b2",
   "metadata": {},
   "outputs": [],
   "source": [
    "ar_list = np.array(list)"
   ]
  },
  {
   "cell_type": "code",
   "execution_count": 4,
   "id": "99b94fb5-d067-49bf-a5ab-b7265de4618e",
   "metadata": {},
   "outputs": [],
   "source": [
    "# Answer 1:-"
   ]
  },
  {
   "cell_type": "code",
   "execution_count": 9,
   "id": "370cfca1-f627-43ae-8e00-20dd7013bc21",
   "metadata": {},
   "outputs": [
    {
     "data": {
      "text/plain": [
       "list"
      ]
     },
     "execution_count": 9,
     "metadata": {},
     "output_type": "execute_result"
    }
   ],
   "source": [
    "type(list)"
   ]
  },
  {
   "cell_type": "code",
   "execution_count": 8,
   "id": "faa2815c-7ce5-4dca-863e-9cda7893b526",
   "metadata": {},
   "outputs": [
    {
     "data": {
      "text/plain": [
       "dtype('<U1')"
      ]
     },
     "execution_count": 8,
     "metadata": {},
     "output_type": "execute_result"
    }
   ],
   "source": [
    "ar_list.dtype"
   ]
  },
  {
   "cell_type": "raw",
   "id": "4cd16823-6a48-4971-82f3-bc5560028c25",
   "metadata": {},
   "source": [
    "Yes there is defference between data types of variable list and array list."
   ]
  },
  {
   "cell_type": "code",
   "execution_count": 10,
   "id": "5bfa814f-1cb7-416b-8beb-9fd148a746d2",
   "metadata": {},
   "outputs": [],
   "source": [
    "# A nswer 2:-"
   ]
  },
  {
   "cell_type": "code",
   "execution_count": 12,
   "id": "36516c2b-7763-4e6d-a049-88ec3c79031b",
   "metadata": {},
   "outputs": [],
   "source": [
    "# Variable list\n",
    "l = [12,34.23,True,'tej']\n",
    "# array list\n",
    "ar = np.array(l)"
   ]
  },
  {
   "cell_type": "code",
   "execution_count": 13,
   "id": "04cff946-0858-4253-9101-1d784d5b5de8",
   "metadata": {},
   "outputs": [
    {
     "name": "stdout",
     "output_type": "stream",
     "text": [
      "<class 'int'>\n",
      "<class 'float'>\n",
      "<class 'bool'>\n",
      "<class 'str'>\n"
     ]
    }
   ],
   "source": [
    "for i in l:\n",
    "    print(type(i))"
   ]
  },
  {
   "cell_type": "code",
   "execution_count": 14,
   "id": "284906fe-45fc-4a28-a37b-32ade1c321bc",
   "metadata": {},
   "outputs": [
    {
     "name": "stdout",
     "output_type": "stream",
     "text": [
      "<class 'numpy.str_'>\n",
      "<class 'numpy.str_'>\n",
      "<class 'numpy.str_'>\n",
      "<class 'numpy.str_'>\n"
     ]
    }
   ],
   "source": [
    "for i in ar:\n",
    "    print(type(i))"
   ]
  },
  {
   "cell_type": "code",
   "execution_count": 15,
   "id": "c20c9637-1f70-4f99-a743-c8a6b232e21a",
   "metadata": {},
   "outputs": [],
   "source": [
    "ar_list = np.array(list,dtype=int)"
   ]
  },
  {
   "cell_type": "code",
   "execution_count": 20,
   "id": "2d2dda40-5150-4669-abfd-504cd5e07c20",
   "metadata": {},
   "outputs": [
    {
     "name": "stdout",
     "output_type": "stream",
     "text": [
      "<class 'str'>\n",
      "<class 'str'>\n",
      "<class 'str'>\n",
      "<class 'str'>\n",
      "<class 'str'>\n"
     ]
    }
   ],
   "source": [
    "for i in list:\n",
    "    print(type(i))"
   ]
  },
  {
   "cell_type": "code",
   "execution_count": 18,
   "id": "9a9720aa-eb94-48f0-9582-2be85c350797",
   "metadata": {},
   "outputs": [
    {
     "data": {
      "text/plain": [
       "dtype('int32')"
      ]
     },
     "execution_count": 18,
     "metadata": {},
     "output_type": "execute_result"
    }
   ],
   "source": [
    "ar_list.dtype"
   ]
  },
  {
   "cell_type": "code",
   "execution_count": 21,
   "id": "9c37fb22-2542-4798-93bb-ffb9d5293b2e",
   "metadata": {},
   "outputs": [
    {
     "name": "stdout",
     "output_type": "stream",
     "text": [
      "<class 'numpy.int32'>\n",
      "<class 'numpy.int32'>\n",
      "<class 'numpy.int32'>\n",
      "<class 'numpy.int32'>\n",
      "<class 'numpy.int32'>\n"
     ]
    }
   ],
   "source": [
    "for i in ar_list:\n",
    "    print(type(i))"
   ]
  },
  {
   "cell_type": "code",
   "execution_count": 22,
   "id": "3a5d7d1a-8160-4dd9-aaad-5dea61d1f338",
   "metadata": {},
   "outputs": [],
   "source": [
    "# yes , there is a difference that, var list has string datatypes whereas array list has integer datatypes."
   ]
  },
  {
   "cell_type": "code",
   "execution_count": 24,
   "id": "af7d2978-e97f-44f0-80b6-20e663e89eb7",
   "metadata": {},
   "outputs": [],
   "source": [
    "num_list = [[1,2,3],[4,5,6]]"
   ]
  },
  {
   "cell_type": "code",
   "execution_count": 25,
   "id": "b01efbbd-4ee4-4009-a269-be391dbf528d",
   "metadata": {},
   "outputs": [],
   "source": [
    "num_array = np.array(num_list)"
   ]
  },
  {
   "cell_type": "code",
   "execution_count": 26,
   "id": "31c6bee6-7b20-4f4c-898c-27419ad8db39",
   "metadata": {},
   "outputs": [],
   "source": [
    "# Answer 4:-"
   ]
  },
  {
   "cell_type": "code",
   "execution_count": 27,
   "id": "0e451341-6e33-4441-a82b-0911b36fa2b9",
   "metadata": {},
   "outputs": [
    {
     "data": {
      "text/plain": [
       "(2, 3)"
      ]
     },
     "execution_count": 27,
     "metadata": {},
     "output_type": "execute_result"
    }
   ],
   "source": [
    "num_array.shape"
   ]
  },
  {
   "cell_type": "code",
   "execution_count": 28,
   "id": "32cda640-e841-4afb-be3f-bd307144ac12",
   "metadata": {},
   "outputs": [
    {
     "data": {
      "text/plain": [
       "6"
      ]
     },
     "execution_count": 28,
     "metadata": {},
     "output_type": "execute_result"
    }
   ],
   "source": [
    "num_array.size"
   ]
  },
  {
   "cell_type": "code",
   "execution_count": 29,
   "id": "fc611685-75e4-41de-9a61-d016096f34a9",
   "metadata": {},
   "outputs": [],
   "source": [
    "# Answer 5:-"
   ]
  },
  {
   "cell_type": "code",
   "execution_count": 32,
   "id": "683892eb-b24e-469f-be4e-a712879e6da3",
   "metadata": {},
   "outputs": [],
   "source": [
    "ar = np.zeros((3,3))"
   ]
  },
  {
   "cell_type": "code",
   "execution_count": 33,
   "id": "0454e348-f724-40bb-b609-8f36f30cd38d",
   "metadata": {},
   "outputs": [
    {
     "data": {
      "text/plain": [
       "array([[0., 0., 0.],\n",
       "       [0., 0., 0.],\n",
       "       [0., 0., 0.]])"
      ]
     },
     "execution_count": 33,
     "metadata": {},
     "output_type": "execute_result"
    }
   ],
   "source": [
    "ar"
   ]
  },
  {
   "cell_type": "code",
   "execution_count": 34,
   "id": "0ff0c922-e742-42d4-9c6a-0da2def71bf2",
   "metadata": {},
   "outputs": [
    {
     "data": {
      "text/plain": [
       "9"
      ]
     },
     "execution_count": 34,
     "metadata": {},
     "output_type": "execute_result"
    }
   ],
   "source": [
    "ar.size"
   ]
  },
  {
   "cell_type": "code",
   "execution_count": 35,
   "id": "d169c90c-9719-410d-ba1f-81b21a8f580b",
   "metadata": {},
   "outputs": [
    {
     "data": {
      "text/plain": [
       "(3, 3)"
      ]
     },
     "execution_count": 35,
     "metadata": {},
     "output_type": "execute_result"
    }
   ],
   "source": [
    "ar.shape"
   ]
  },
  {
   "cell_type": "code",
   "execution_count": 36,
   "id": "cfc8a451-5832-4fc4-9665-b3fd76dedf8a",
   "metadata": {},
   "outputs": [],
   "source": [
    "# Answer 6:-"
   ]
  },
  {
   "cell_type": "code",
   "execution_count": 37,
   "id": "d50f065c-c329-4fdf-8148-64a83b061b63",
   "metadata": {},
   "outputs": [],
   "source": [
    "ar1 = np.eye(5)"
   ]
  },
  {
   "cell_type": "code",
   "execution_count": 38,
   "id": "19008fd3-f1a3-4ede-83a3-a54d9aee6b8e",
   "metadata": {},
   "outputs": [
    {
     "data": {
      "text/plain": [
       "array([[1., 0., 0., 0., 0.],\n",
       "       [0., 1., 0., 0., 0.],\n",
       "       [0., 0., 1., 0., 0.],\n",
       "       [0., 0., 0., 1., 0.],\n",
       "       [0., 0., 0., 0., 1.]])"
      ]
     },
     "execution_count": 38,
     "metadata": {},
     "output_type": "execute_result"
    }
   ],
   "source": [
    "ar1"
   ]
  },
  {
   "cell_type": "code",
   "execution_count": 39,
   "id": "5097858f-7949-401f-a603-b3bcd08c3db4",
   "metadata": {},
   "outputs": [
    {
     "data": {
      "text/plain": [
       "25"
      ]
     },
     "execution_count": 39,
     "metadata": {},
     "output_type": "execute_result"
    }
   ],
   "source": [
    "ar1.size"
   ]
  },
  {
   "cell_type": "code",
   "execution_count": 40,
   "id": "0fc829cc-b7be-4443-bbaa-bc05c6fc7dcf",
   "metadata": {},
   "outputs": [
    {
     "data": {
      "text/plain": [
       "(5, 5)"
      ]
     },
     "execution_count": 40,
     "metadata": {},
     "output_type": "execute_result"
    }
   ],
   "source": [
    "ar1.shape"
   ]
  },
  {
   "cell_type": "code",
   "execution_count": null,
   "id": "a3e56938-dbe0-49ab-88b1-5ba69c5f2d61",
   "metadata": {},
   "outputs": [],
   "source": []
  }
 ],
 "metadata": {
  "kernelspec": {
   "display_name": "Python 3 (ipykernel)",
   "language": "python",
   "name": "python3"
  },
  "language_info": {
   "codemirror_mode": {
    "name": "ipython",
    "version": 3
   },
   "file_extension": ".py",
   "mimetype": "text/x-python",
   "name": "python",
   "nbconvert_exporter": "python",
   "pygments_lexer": "ipython3",
   "version": "3.12.4"
  }
 },
 "nbformat": 4,
 "nbformat_minor": 5
}
